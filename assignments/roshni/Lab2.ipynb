{
 "cells": [
  {
   "cell_type": "code",
   "execution_count": null,
   "id": "917ca7e4-f78b-4dc5-a45f-f6ffbe0fd970",
   "metadata": {},
   "outputs": [],
   "source": [
    "import pandas as pd\n",
    "import requests\n",
    "from bs4 import BeautifulSoup"
   ]
  },
  {
   "cell_type": "code",
   "execution_count": null,
   "id": "1f1318be-58be-4701-aa82-5f468574bb36",
   "metadata": {},
   "outputs": [],
   "source": [
    "url = \"https://en.wikipedia.org/wiki/Junior_Eurovision_Song_Contest\"\n",
    "response = requests.get(url)\n",
    "soup = BeautifulSoup(response.content, 'html.parser')\n"
   ]
  },
  {
   "cell_type": "code",
   "execution_count": null,
   "id": "b0e7c770-4223-45e1-a603-37b8f4faa932",
   "metadata": {},
   "outputs": [
    {
     "data": {
      "text/html": [
       "<div>\n",
       "<style scoped>\n",
       "    .dataframe tbody tr th:only-of-type {\n",
       "        vertical-align: middle;\n",
       "    }\n",
       "\n",
       "    .dataframe tbody tr th {\n",
       "        vertical-align: top;\n",
       "    }\n",
       "\n",
       "    .dataframe thead th {\n",
       "        text-align: right;\n",
       "    }\n",
       "</style>\n",
       "<table border=\"1\" class=\"dataframe\">\n",
       "  <thead>\n",
       "    <tr style=\"text-align: right;\">\n",
       "      <th></th>\n",
       "      <th>Year</th>\n",
       "      <th>Host Country</th>\n",
       "      <th>Winner Country</th>\n",
       "      <th>Winning Song</th>\n",
       "      <th>Artist</th>\n",
       "      <th>Points</th>\n",
       "    </tr>\n",
       "  </thead>\n",
       "  <tbody>\n",
       "    <tr>\n",
       "      <th>0</th>\n",
       "      <td>2023</td>\n",
       "      <td>France</td>\n",
       "      <td>France</td>\n",
       "      <td>Oh Maman!</td>\n",
       "      <td>Zoé Clauzure</td>\n",
       "      <td>228</td>\n",
       "    </tr>\n",
       "    <tr>\n",
       "      <th>1</th>\n",
       "      <td>2022</td>\n",
       "      <td>Armenia</td>\n",
       "      <td>Armenia</td>\n",
       "      <td>DANCE!</td>\n",
       "      <td>Nare</td>\n",
       "      <td>180</td>\n",
       "    </tr>\n",
       "    <tr>\n",
       "      <th>2</th>\n",
       "      <td>2021</td>\n",
       "      <td>France</td>\n",
       "      <td>Armenia</td>\n",
       "      <td>Qami Qami</td>\n",
       "      <td>Maléna</td>\n",
       "      <td>224</td>\n",
       "    </tr>\n",
       "  </tbody>\n",
       "</table>\n",
       "</div>"
      ],
      "text/plain": [
       "   Year Host Country Winner Country Winning Song        Artist  Points\n",
       "0  2023       France         France    Oh Maman!  Zoé Clauzure     228\n",
       "1  2022      Armenia        Armenia       DANCE!          Nare     180\n",
       "2  2021       France        Armenia    Qami Qami        Maléna     224"
      ]
     },
     "execution_count": 16,
     "metadata": {},
     "output_type": "execute_result"
    }
   ],
   "source": [
    "data = {\n",
    "    \"Year\": [2023, 2022, 2021],\n",
    "    \"Host Country\": [\"France\", \"Armenia\", \"France\"],\n",
    "    \"Winner Country\": [\"France\", \"Armenia\", \"Armenia\"],\n",
    "    \"Winning Song\": [\"Oh Maman!\", \"DANCE!\", \"Qami Qami\"],\n",
    "    \"Artist\": [\"Zoé Clauzure\", \"Nare\", \"Maléna\"],\n",
    "    \"Points\": [228, 180, 224]\n",
    "}\n",
    "\n",
    "df = pd.DataFrame(data)\n",
    "df"
   ]
  },
  {
   "cell_type": "code",
   "execution_count": null,
   "id": "c1ce159c-e0ad-4f3c-8a54-9a202ffd2b74",
   "metadata": {},
   "outputs": [],
   "source": [
    "df.to_csv(\"junior_eurovision_2003_2023.csv\", index=False)"
   ]
  },
  {
   "cell_type": "code",
   "execution_count": null,
   "id": "5ffb68c0-3ed8-4130-aad5-9316d2d41dfa",
   "metadata": {},
   "outputs": [],
   "source": [
    "import matplotlib.pyplot as plt"
   ]
  },
  {
   "cell_type": "code",
   "execution_count": null,
   "id": "345affa9-503b-4f2f-8b16-6472c340f428",
   "metadata": {},
   "outputs": [
    {
     "data": {
      "image/png": "[encoded data removed]",
      "text/plain": [
       "<Figure size 1000x500 with 1 Axes>"
      ]
     },
     "metadata": {},
     "output_type": "display_data"
    }
   ],
   "source": [
    "plt.figure(figsize=(10,5))\n",
    "plt.bar(df['Year'], df['Points'], color='skyblue')\n",
    "plt.xlabel('Year')\n",
    "plt.ylabel('Points')\n",
    "plt.title('Winning Points per Year')\n",
    "plt.show()"
   ]
  },
  {
   "cell_type": "code",
   "execution_count": null,
   "id": "b1f9d04a-33e5-4bde-8c77-c4b6a08d227c",
   "metadata": {},
   "outputs": [],
   "source": [
    "import pandas as pd\n",
    "import requests\n",
    "from bs4 import BeautifulSoup"
   ]
  },
  {
   "cell_type": "code",
   "execution_count": null,
   "id": "75507b32-f087-43d7-8edb-0b7a9ebd9c3a",
   "metadata": {},
   "outputs": [],
   "source": [
    "def get_jesc_winner_data(year):\n",
    "    url = f\"https://en.wikipedia.org/wiki/Junior_Eurovision_Song_Contest_{year}\"\n",
    "    response = requests.get(url)\n",
    "    soup = BeautifulSoup(response.content, 'lxml')\n",
    "\n",
    "    info_box = soup.find('table', {'class': 'infobox'})\n",
    "\n",
    "    if not info_box:\n",
    "        return None\n",
    "\n",
    "    rows = info_box.find_all('tr')\n",
    "    host_country = winner_country = artist = song = points = None\n",
    "\n",
    "    for row in rows:\n",
    "        header = row.find('th')\n",
    "        data = row.find('td')\n",
    "\n",
    "        if header and data:\n",
    "            h = header.text.strip()\n",
    "            d = data.text.strip()\n",
    "\n",
    "            if 'Venue' in h and not host_country:\n",
    "                host_country = d.split(',')[-1].strip()\n",
    "            elif 'Winning country' in h:\n",
    "                winner_country = d\n",
    "            elif 'Winning act' in h:\n",
    "                artist = d\n",
    "            elif 'Winning song' in h:\n",
    "                song = d.replace('\"', '')\n",
    "            elif 'Winning score' in h:\n",
    "                points = d.split()[0]  # Only keep number\n",
    "\n",
    "    return {\n",
    "        \"Year\": year,\n",
    "        \"Host Country\": host_country,\n",
    "        \"Winner Country\": winner_country,\n",
    "        \"Artist\": artist,\n",
    "        \"Song\": song,\n",
    "        \"Points\": points\n",
    "    }\n"
   ]
  },
  {
   "cell_type": "code",
   "execution_count": null,
   "id": "c2cd7a9f-7680-459b-946f-7cb18155a416",
   "metadata": {},
   "outputs": [],
   "source": [
    "soup = BeautifulSoup(response.content, 'html.parser')"
   ]
  },
  {
   "cell_type": "code",
   "execution_count": null,
   "id": "e77f601f-aa68-49ce-8791-ddae651be329",
   "metadata": {},
   "outputs": [],
   "source": [
    "import pandas as pd\n",
    "import requests\n",
    "from bs4 import BeautifulSoup"
   ]
  },
  {
   "cell_type": "code",
   "execution_count": null,
   "id": "a66d0270-5cdc-4e95-8b7e-079be59b3f71",
   "metadata": {},
   "outputs": [],
   "source": [
    "def get_jesc_winner_data(year):\n",
    "    url = f\"https://en.wikipedia.org/wiki/Junior_Eurovision_Song_Contest_{year}\"\n",
    "    response = requests.get(url)\n",
    "    soup = BeautifulSoup(response.content, 'html.parser')\n",
    "\n",
    "    infobox = soup.find('table', {'class': 'infobox'})\n",
    "\n",
    "    if not infobox:\n",
    "        return None\n",
    "\n",
    "    rows = infobox.find_all('tr')\n",
    "    host_country = winner_country = artist = song = points = None\n",
    "\n",
    "    for row in rows:\n",
    "        header = row.find('th')\n",
    "        data = row.find('td')\n",
    "\n",
    "        if header and data:\n",
    "            h = header.text.strip()\n",
    "            d = data.text.strip()\n",
    "\n",
    "            if 'Venue' in h and not host_country:\n",
    "                host_country = d.split(',')[-1].strip()\n",
    "            elif 'Winning country' in h:\n",
    "                winner_country = d\n",
    "            elif 'Winning act' in h:\n",
    "                artist = d\n",
    "            elif 'Winning song' in h:\n",
    "                song = d.replace('\"', '')\n",
    "            elif 'Winning score' in h:\n",
    "                points = d.split()[0] \n",
    "\n",
    "    return {\n",
    "        'Year': year,\n",
    "        'Host_Country': host_country,\n",
    "        'Winner_Country': winner_country,\n",
    "        'Artist': artist,\n",
    "        'Song': song,\n",
    "        'Points': points\n",
    "    }\n"
   ]
  },
  {
   "cell_type": "code",
   "execution_count": null,
   "id": "af2cb1e6-d7c7-4f4c-9bcd-77c1b57f46d5",
   "metadata": {},
   "outputs": [
    {
     "name": "stdout",
     "output_type": "stream",
     "text": [
      "Fetching 2003...\n",
      "Fetching 2004...\n",
      "Fetching 2005...\n",
      "Fetching 2006...\n",
      "Fetching 2007...\n",
      "Fetching 2008...\n",
      "Fetching 2009...\n",
      "Fetching 2010...\n",
      "Fetching 2011...\n",
      "Fetching 2012...\n",
      "Fetching 2013...\n",
      "Fetching 2014...\n",
      "Fetching 2015...\n",
      "Fetching 2016...\n",
      "Fetching 2017...\n",
      "Fetching 2018...\n",
      "Fetching 2019...\n",
      "Fetching 2020...\n",
      "Fetching 2021...\n",
      "Fetching 2022...\n",
      "Fetching 2023...\n"
     ]
    }
   ],
   "source": [
    "raw_data = []\n",
    "\n",
    "for year in range(2003, 2024):\n",
    "    print(f\"Fetching {year}...\")\n",
    "    entry = get_jesc_winner_data(year)\n",
    "    if entry:\n",
    "        raw_data.append(entry)"
   ]
  },
  {
   "cell_type": "code",
   "execution_count": null,
   "id": "0c57a991-cbd8-4f18-8f95-3578dfd0d4b0",
   "metadata": {},
   "outputs": [
    {
     "data": {
      "text/html": [
       "<div>\n",
       "<style scoped>\n",
       "    .dataframe tbody tr th:only-of-type {\n",
       "        vertical-align: middle;\n",
       "    }\n",
       "\n",
       "    .dataframe tbody tr th {\n",
       "        vertical-align: top;\n",
       "    }\n",
       "\n",
       "    .dataframe thead th {\n",
       "        text-align: right;\n",
       "    }\n",
       "</style>\n",
       "<table border=\"1\" class=\"dataframe\">\n",
       "  <thead>\n",
       "    <tr style=\"text-align: right;\">\n",
       "      <th></th>\n",
       "      <th>Year</th>\n",
       "      <th>Host_Country</th>\n",
       "      <th>Winner_Country</th>\n",
       "      <th>Artist</th>\n",
       "      <th>Song</th>\n",
       "      <th>Points</th>\n",
       "    </tr>\n",
       "  </thead>\n",
       "  <tbody>\n",
       "    <tr>\n",
       "      <th>0</th>\n",
       "      <td>2003</td>\n",
       "      <td>Denmark</td>\n",
       "      <td>None</td>\n",
       "      <td>None</td>\n",
       "      <td>CroatiaTi si moja prva ljubav</td>\n",
       "      <td>None</td>\n",
       "    </tr>\n",
       "    <tr>\n",
       "      <th>1</th>\n",
       "      <td>2004</td>\n",
       "      <td>Norway</td>\n",
       "      <td>None</td>\n",
       "      <td>None</td>\n",
       "      <td>Spain Antes muerta que sencilla</td>\n",
       "      <td>None</td>\n",
       "    </tr>\n",
       "    <tr>\n",
       "      <th>2</th>\n",
       "      <td>2005</td>\n",
       "      <td>Belgium</td>\n",
       "      <td>None</td>\n",
       "      <td>None</td>\n",
       "      <td>BelarusMy vmeste</td>\n",
       "      <td>None</td>\n",
       "    </tr>\n",
       "    <tr>\n",
       "      <th>3</th>\n",
       "      <td>2006</td>\n",
       "      <td>Romania</td>\n",
       "      <td>None</td>\n",
       "      <td>None</td>\n",
       "      <td>RussiaVesenniy Jazz</td>\n",
       "      <td>None</td>\n",
       "    </tr>\n",
       "    <tr>\n",
       "      <th>4</th>\n",
       "      <td>2007</td>\n",
       "      <td>Netherlands</td>\n",
       "      <td>None</td>\n",
       "      <td>None</td>\n",
       "      <td>BelarusS druz'yami</td>\n",
       "      <td>None</td>\n",
       "    </tr>\n",
       "  </tbody>\n",
       "</table>\n",
       "</div>"
      ],
      "text/plain": [
       "   Year Host_Country Winner_Country Artist                             Song  \\\n",
       "0  2003      Denmark           None   None    CroatiaTi si moja prva ljubav   \n",
       "1  2004       Norway           None   None  Spain Antes muerta que sencilla   \n",
       "2  2005      Belgium           None   None                 BelarusMy vmeste   \n",
       "3  2006      Romania           None   None              RussiaVesenniy Jazz   \n",
       "4  2007  Netherlands           None   None               BelarusS druz'yami   \n",
       "\n",
       "  Points  \n",
       "0   None  \n",
       "1   None  \n",
       "2   None  \n",
       "3   None  \n",
       "4   None  "
      ]
     },
     "execution_count": 33,
     "metadata": {},
     "output_type": "execute_result"
    }
   ],
   "source": [
    "df = pd.DataFrame(raw_data)\n",
    "df.head()"
   ]
  },
  {
   "cell_type": "code",
   "execution_count": null,
   "id": "276b3b39-de20-49d7-ad13-55cc5cdf533b",
   "metadata": {},
   "outputs": [
    {
     "data": {
      "text/plain": [
       "'Winner_Country'"
      ]
     },
     "execution_count": 36,
     "metadata": {},
     "output_type": "execute_result"
    }
   ],
   "source": [
    "'Host_Country'\n",
    "'Winner_Country'"
   ]
  },
  {
   "cell_type": "code",
   "execution_count": null,
   "id": "979e96e9-a830-4491-bbed-f347d6f42689",
   "metadata": {},
   "outputs": [
    {
     "data": {
      "text/html": [
       "<div>\n",
       "<style scoped>\n",
       "    .dataframe tbody tr th:only-of-type {\n",
       "        vertical-align: middle;\n",
       "    }\n",
       "\n",
       "    .dataframe tbody tr th {\n",
       "        vertical-align: top;\n",
       "    }\n",
       "\n",
       "    .dataframe thead th {\n",
       "        text-align: right;\n",
       "    }\n",
       "</style>\n",
       "<table border=\"1\" class=\"dataframe\">\n",
       "  <thead>\n",
       "    <tr style=\"text-align: right;\">\n",
       "      <th></th>\n",
       "      <th>Year</th>\n",
       "      <th>Host_Country</th>\n",
       "      <th>Winner_Country</th>\n",
       "      <th>Points</th>\n",
       "    </tr>\n",
       "  </thead>\n",
       "  <tbody>\n",
       "    <tr>\n",
       "      <th>0</th>\n",
       "      <td>2003</td>\n",
       "      <td>Denmark</td>\n",
       "      <td>None</td>\n",
       "      <td>None</td>\n",
       "    </tr>\n",
       "    <tr>\n",
       "      <th>1</th>\n",
       "      <td>2004</td>\n",
       "      <td>Norway</td>\n",
       "      <td>None</td>\n",
       "      <td>None</td>\n",
       "    </tr>\n",
       "    <tr>\n",
       "      <th>2</th>\n",
       "      <td>2005</td>\n",
       "      <td>Belgium</td>\n",
       "      <td>None</td>\n",
       "      <td>None</td>\n",
       "    </tr>\n",
       "    <tr>\n",
       "      <th>3</th>\n",
       "      <td>2006</td>\n",
       "      <td>Romania</td>\n",
       "      <td>None</td>\n",
       "      <td>None</td>\n",
       "    </tr>\n",
       "    <tr>\n",
       "      <th>4</th>\n",
       "      <td>2007</td>\n",
       "      <td>Netherlands</td>\n",
       "      <td>None</td>\n",
       "      <td>None</td>\n",
       "    </tr>\n",
       "  </tbody>\n",
       "</table>\n",
       "</div>"
      ],
      "text/plain": [
       "   Year Host_Country Winner_Country Points\n",
       "0  2003      Denmark           None   None\n",
       "1  2004       Norway           None   None\n",
       "2  2005      Belgium           None   None\n",
       "3  2006      Romania           None   None\n",
       "4  2007  Netherlands           None   None"
      ]
     },
     "execution_count": 37,
     "metadata": {},
     "output_type": "execute_result"
    }
   ],
   "source": [
    "df_reduced = df[['Year', 'Host_Country', 'Winner_Country', 'Points']].copy()\n",
    "df_reduced.head()"
   ]
  },
  {
   "cell_type": "code",
   "execution_count": null,
   "id": "8249bac5-f1b0-41a0-8d43-3e71871f59f2",
   "metadata": {},
   "outputs": [
    {
     "data": {
      "text/html": [
       "<div>\n",
       "<style scoped>\n",
       "    .dataframe tbody tr th:only-of-type {\n",
       "        vertical-align: middle;\n",
       "    }\n",
       "\n",
       "    .dataframe tbody tr th {\n",
       "        vertical-align: top;\n",
       "    }\n",
       "\n",
       "    .dataframe thead th {\n",
       "        text-align: right;\n",
       "    }\n",
       "</style>\n",
       "<table border=\"1\" class=\"dataframe\">\n",
       "  <thead>\n",
       "    <tr style=\"text-align: right;\">\n",
       "      <th></th>\n",
       "      <th>Year</th>\n",
       "      <th>Host Country</th>\n",
       "      <th>Winner Country</th>\n",
       "      <th>Points</th>\n",
       "    </tr>\n",
       "  </thead>\n",
       "  <tbody>\n",
       "    <tr>\n",
       "      <th>0</th>\n",
       "      <td>2003</td>\n",
       "      <td>Denmark</td>\n",
       "      <td>None</td>\n",
       "      <td>None</td>\n",
       "    </tr>\n",
       "    <tr>\n",
       "      <th>1</th>\n",
       "      <td>2004</td>\n",
       "      <td>Norway</td>\n",
       "      <td>None</td>\n",
       "      <td>None</td>\n",
       "    </tr>\n",
       "    <tr>\n",
       "      <th>2</th>\n",
       "      <td>2005</td>\n",
       "      <td>Belgium</td>\n",
       "      <td>None</td>\n",
       "      <td>None</td>\n",
       "    </tr>\n",
       "    <tr>\n",
       "      <th>3</th>\n",
       "      <td>2006</td>\n",
       "      <td>Romania</td>\n",
       "      <td>None</td>\n",
       "      <td>None</td>\n",
       "    </tr>\n",
       "    <tr>\n",
       "      <th>4</th>\n",
       "      <td>2007</td>\n",
       "      <td>Netherlands</td>\n",
       "      <td>None</td>\n",
       "      <td>None</td>\n",
       "    </tr>\n",
       "  </tbody>\n",
       "</table>\n",
       "</div>"
      ],
      "text/plain": [
       "   Year Host Country Winner Country Points\n",
       "0  2003      Denmark           None   None\n",
       "1  2004       Norway           None   None\n",
       "2  2005      Belgium           None   None\n",
       "3  2006      Romania           None   None\n",
       "4  2007  Netherlands           None   None"
      ]
     },
     "execution_count": 38,
     "metadata": {},
     "output_type": "execute_result"
    }
   ],
   "source": [
    "df = df.rename(columns={\n",
    "    'Host_Country': 'Host Country',\n",
    "    'Winner_Country': 'Winner Country'\n",
    "})\n",
    "\n",
    "df_reduced = df[['Year', 'Host Country', 'Winner Country', 'Points']].copy()\n",
    "df_reduced.head()"
   ]
  },
  {
   "cell_type": "code",
   "execution_count": null,
   "id": "e467ce00-3498-4284-975e-aca49cabb8ee",
   "metadata": {},
   "outputs": [
    {
     "name": "stdout",
     "output_type": "stream",
     "text": [
      "['Year', 'Host Country', 'Winner Country', 'Artist', 'Song', 'Points']\n"
     ]
    }
   ],
   "source": [
    "print(df.columns.tolist())"
   ]
  },
  {
   "cell_type": "code",
   "execution_count": null,
   "id": "f48811df-d85c-4e8d-9f04-95065444bbe0",
   "metadata": {},
   "outputs": [
    {
     "data": {
      "text/html": [
       "<div>\n",
       "<style scoped>\n",
       "    .dataframe tbody tr th:only-of-type {\n",
       "        vertical-align: middle;\n",
       "    }\n",
       "\n",
       "    .dataframe tbody tr th {\n",
       "        vertical-align: top;\n",
       "    }\n",
       "\n",
       "    .dataframe thead th {\n",
       "        text-align: right;\n",
       "    }\n",
       "</style>\n",
       "<table border=\"1\" class=\"dataframe\">\n",
       "  <thead>\n",
       "    <tr style=\"text-align: right;\">\n",
       "      <th></th>\n",
       "      <th>Year</th>\n",
       "      <th>Host Country</th>\n",
       "      <th>Winner Country</th>\n",
       "      <th>Artist</th>\n",
       "      <th>Song</th>\n",
       "      <th>Points</th>\n",
       "    </tr>\n",
       "  </thead>\n",
       "  <tbody>\n",
       "    <tr>\n",
       "      <th>0</th>\n",
       "      <td>2003</td>\n",
       "      <td>Denmark</td>\n",
       "      <td>None</td>\n",
       "      <td>None</td>\n",
       "      <td>CroatiaTi si moja prva ljubav</td>\n",
       "      <td>None</td>\n",
       "    </tr>\n",
       "    <tr>\n",
       "      <th>1</th>\n",
       "      <td>2004</td>\n",
       "      <td>Norway</td>\n",
       "      <td>None</td>\n",
       "      <td>None</td>\n",
       "      <td>Spain Antes muerta que sencilla</td>\n",
       "      <td>None</td>\n",
       "    </tr>\n",
       "    <tr>\n",
       "      <th>2</th>\n",
       "      <td>2005</td>\n",
       "      <td>Belgium</td>\n",
       "      <td>None</td>\n",
       "      <td>None</td>\n",
       "      <td>BelarusMy vmeste</td>\n",
       "      <td>None</td>\n",
       "    </tr>\n",
       "    <tr>\n",
       "      <th>3</th>\n",
       "      <td>2006</td>\n",
       "      <td>Romania</td>\n",
       "      <td>None</td>\n",
       "      <td>None</td>\n",
       "      <td>RussiaVesenniy Jazz</td>\n",
       "      <td>None</td>\n",
       "    </tr>\n",
       "    <tr>\n",
       "      <th>4</th>\n",
       "      <td>2007</td>\n",
       "      <td>Netherlands</td>\n",
       "      <td>None</td>\n",
       "      <td>None</td>\n",
       "      <td>BelarusS druz'yami</td>\n",
       "      <td>None</td>\n",
       "    </tr>\n",
       "  </tbody>\n",
       "</table>\n",
       "</div>"
      ],
      "text/plain": [
       "   Year Host Country Winner Country Artist                             Song  \\\n",
       "0  2003      Denmark           None   None    CroatiaTi si moja prva ljubav   \n",
       "1  2004       Norway           None   None  Spain Antes muerta que sencilla   \n",
       "2  2005      Belgium           None   None                 BelarusMy vmeste   \n",
       "3  2006      Romania           None   None              RussiaVesenniy Jazz   \n",
       "4  2007  Netherlands           None   None               BelarusS druz'yami   \n",
       "\n",
       "  Points  \n",
       "0   None  \n",
       "1   None  \n",
       "2   None  \n",
       "3   None  \n",
       "4   None  "
      ]
     },
     "execution_count": 40,
     "metadata": {},
     "output_type": "execute_result"
    }
   ],
   "source": [
    "df.head()"
   ]
  },
  {
   "cell_type": "code",
   "execution_count": null,
   "id": "603af494-2e67-4e21-91eb-9f0477b2d1be",
   "metadata": {},
   "outputs": [
    {
     "data": {
      "text/html": [
       "<div>\n",
       "<style scoped>\n",
       "    .dataframe tbody tr th:only-of-type {\n",
       "        vertical-align: middle;\n",
       "    }\n",
       "\n",
       "    .dataframe tbody tr th {\n",
       "        vertical-align: top;\n",
       "    }\n",
       "\n",
       "    .dataframe thead th {\n",
       "        text-align: right;\n",
       "    }\n",
       "</style>\n",
       "<table border=\"1\" class=\"dataframe\">\n",
       "  <thead>\n",
       "    <tr style=\"text-align: right;\">\n",
       "      <th></th>\n",
       "      <th>Year</th>\n",
       "    </tr>\n",
       "  </thead>\n",
       "  <tbody>\n",
       "    <tr>\n",
       "      <th>count</th>\n",
       "      <td>21.000000</td>\n",
       "    </tr>\n",
       "    <tr>\n",
       "      <th>mean</th>\n",
       "      <td>2013.000000</td>\n",
       "    </tr>\n",
       "    <tr>\n",
       "      <th>std</th>\n",
       "      <td>6.204837</td>\n",
       "    </tr>\n",
       "    <tr>\n",
       "      <th>min</th>\n",
       "      <td>2003.000000</td>\n",
       "    </tr>\n",
       "    <tr>\n",
       "      <th>25%</th>\n",
       "      <td>2008.000000</td>\n",
       "    </tr>\n",
       "    <tr>\n",
       "      <th>50%</th>\n",
       "      <td>2013.000000</td>\n",
       "    </tr>\n",
       "    <tr>\n",
       "      <th>75%</th>\n",
       "      <td>2018.000000</td>\n",
       "    </tr>\n",
       "    <tr>\n",
       "      <th>max</th>\n",
       "      <td>2023.000000</td>\n",
       "    </tr>\n",
       "  </tbody>\n",
       "</table>\n",
       "</div>"
      ],
      "text/plain": [
       "              Year\n",
       "count    21.000000\n",
       "mean   2013.000000\n",
       "std       6.204837\n",
       "min    2003.000000\n",
       "25%    2008.000000\n",
       "50%    2013.000000\n",
       "75%    2018.000000\n",
       "max    2023.000000"
      ]
     },
     "execution_count": 41,
     "metadata": {},
     "output_type": "execute_result"
    }
   ],
   "source": [
    "df.describe()"
   ]
  },
  {
   "cell_type": "code",
   "execution_count": null,
   "id": "30163536-83e5-422b-9359-c37048812dd1",
   "metadata": {},
   "outputs": [
    {
     "data": {
      "text/plain": [
       "Year               0\n",
       "Host Country       0\n",
       "Winner Country    21\n",
       "Artist            21\n",
       "Song               0\n",
       "Points            21\n",
       "dtype: int64"
      ]
     },
     "execution_count": 42,
     "metadata": {},
     "output_type": "execute_result"
    }
   ],
   "source": [
    "df.isnull().sum()"
   ]
  },
  {
   "cell_type": "code",
   "execution_count": null,
   "id": "a10fd839-9e54-40b4-b447-d9ac6d5214d6",
   "metadata": {},
   "outputs": [
    {
     "name": "stdout",
     "output_type": "stream",
     "text": [
      "['Year', 'Host Country', 'Winner Country', 'Artist', 'Song', 'Points']\n"
     ]
    }
   ],
   "source": [
    "print(df.columns.tolist())"
   ]
  },
  {
   "cell_type": "code",
   "execution_count": null,
   "id": "74de258a-c15d-483a-8157-1e84391ed819",
   "metadata": {},
   "outputs": [
    {
     "name": "stdout",
     "output_type": "stream",
     "text": [
      "Series([], Name: count, dtype: int64)\n"
     ]
    }
   ],
   "source": [
    "winner_counts = df['Winner Country'].value_counts()\n",
    "print(winner_counts)"
   ]
  },
  {
   "cell_type": "code",
   "execution_count": null,
   "id": "8a82231c-1450-41d6-8612-c4a0dbf2b519",
   "metadata": {},
   "outputs": [
    {
     "name": "stdout",
     "output_type": "stream",
     "text": [
      "['year', 'host_country', 'winner_country', 'artist', 'song', 'points']\n"
     ]
    }
   ],
   "source": [
    "df.columns = df.columns.str.strip().str.replace(' ', '_').str.lower()\n",
    "print(df.columns.tolist())"
   ]
  },
  {
   "cell_type": "code",
   "execution_count": null,
   "id": "f98ef7a4-f109-4f4e-a6d2-81bb3a8ff7a0",
   "metadata": {},
   "outputs": [
    {
     "name": "stdout",
     "output_type": "stream",
     "text": [
      "Series([], Name: count, dtype: int64)\n"
     ]
    }
   ],
   "source": [
    "winner_counts = df['winner_country'].value_counts()\n",
    "print(winner_counts)\n"
   ]
  },
  {
   "cell_type": "code",
   "execution_count": null,
   "id": "f9e0c069-96c8-4690-b713-d14037958b5d",
   "metadata": {},
   "outputs": [
    {
     "name": "stdout",
     "output_type": "stream",
     "text": [
      "Index(['year', 'host_country', 'winner_country', 'artist', 'song', 'points'], dtype='object')\n"
     ]
    }
   ],
   "source": [
    "print(df.columns)"
   ]
  },
  {
   "cell_type": "code",
   "execution_count": null,
   "id": "fa98e988-743d-461b-b524-c97a146a17c3",
   "metadata": {},
   "outputs": [
    {
     "name": "stdout",
     "output_type": "stream",
     "text": [
      "['year', 'host_country', 'winner_country', 'artist', 'song', 'points']\n"
     ]
    }
   ],
   "source": [
    "print(df.columns.tolist())"
   ]
  },
  {
   "cell_type": "code",
   "execution_count": null,
   "id": "7c03f28a-4d31-4bd2-85b1-9a5eeadaa7d5",
   "metadata": {},
   "outputs": [
    {
     "name": "stdout",
     "output_type": "stream",
     "text": [
      "['year', 'host_country', 'winner_country', 'artist', 'song', 'points']\n"
     ]
    }
   ],
   "source": [
    "df.columns = df.columns.str.strip().str.lower().str.replace(' ', '_')\n",
    "print(df.columns.tolist())\n"
   ]
  },
  {
   "cell_type": "code",
   "execution_count": null,
   "id": "36f21c1b-218d-4c30-bd56-8f92a9785786",
   "metadata": {},
   "outputs": [],
   "source": [
    "import matplotlib.pyplot as plt\n",
    "import pandas as pd\n",
    "import numpy as np"
   ]
  },
  {
   "cell_type": "code",
   "execution_count": null,
   "id": "0f983221-08f2-4231-88f8-bc9f59afbd03",
   "metadata": {},
   "outputs": [],
   "source": [
    "data = {\n",
    "    'year': [2023, 2022, 2021, 2020, 2019, 2018, 2017],\n",
    "    'winner_country': ['CountryA', 'CountryB', 'CountryA', 'CountryC', 'CountryA', 'CountryB', 'CountryC'],\n",
    "    'points': [200, 180, 190, 175, 205, 185, 170]\n",
    "}"
   ]
  },
  {
   "cell_type": "code",
   "execution_count": null,
   "id": "90e599a0-7e2f-43e6-a25d-63d564aa6b98",
   "metadata": {},
   "outputs": [],
   "source": [
    "df = pd.DataFrame(data)"
   ]
  },
  {
   "cell_type": "code",
   "execution_count": null,
   "id": "a16c54fa-3254-4bbd-9e43-b7ad4f5dd753",
   "metadata": {},
   "outputs": [
    {
     "data": {
      "text/plain": [
       "<Figure size 800x500 with 0 Axes>"
      ]
     },
     "metadata": {},
     "output_type": "display_data"
    }
   ],
   "source": [
    "plt.figure(figsize=(8, 5))\n",
    "winner_counts = df['winner_country'].value_counts()\n",
    "colors = ['#377eb8', '#ff7f00', '#4daf4a'] "
   ]
  },
  {
   "cell_type": "code",
   "execution_count": null,
   "id": "3cff84c2-9597-4089-bccb-d2d08400f14b",
   "metadata": {},
   "outputs": [
    {
     "data": {
      "text/plain": [
       "<BarContainer object of 3 artists>"
      ]
     },
     "execution_count": 68,
     "metadata": {},
     "output_type": "execute_result"
    },
    {
     "data": {
      "image/png": "[encoded data removed]",
      "text/plain": [
       "<Figure size 640x480 with 1 Axes>"
      ]
     },
     "metadata": {},
     "output_type": "display_data"
    }
   ],
   "source": [
    "plt.bar(winner_counts.index, winner_counts.values, color=colors[:len(winner_counts)])"
   ]
  },
  {
   "cell_type": "code",
   "execution_count": null,
   "id": "e83a9e5b-6d3d-44bf-b2f0-0bd0cbcb4644",
   "metadata": {},
   "outputs": [
    {
     "data": {
      "image/png": "[encoded data removed]",
      "text/plain": [
       "<Figure size 640x480 with 1 Axes>"
      ]
     },
     "metadata": {},
     "output_type": "display_data"
    }
   ],
   "source": [
    "plt.title('Number of Wins by Country (Junior Eurovision 2023-2017)', fontsize=14, fontweight='bold')\n",
    "plt.xlabel('Country', fontsize=12)\n",
    "plt.ylabel('Number of Wins', fontsize=12)\n",
    "plt.xticks(rotation=45)\n",
    "plt.tight_layout()\n",
    "plt.show()"
   ]
  },
  {
   "cell_type": "code",
   "execution_count": null,
   "id": "ad3ae986-8f46-46cf-aec0-839a4a478d02",
   "metadata": {},
   "outputs": [
    {
     "data": {
      "image/png": "[encoded data removed]",
      "text/plain": [
       "<Figure size 1000x600 with 1 Axes>"
      ]
     },
     "metadata": {},
     "output_type": "display_data"
    }
   ],
   "source": [
    "pivot = df.pivot(index='winner_country', columns='year', values='points').fillna(0)\n",
    "\n",
    "plt.figure(figsize=(10, 6))\n",
    "im = plt.imshow(pivot, cmap='YlGnBu', aspect='auto')"
   ]
  },
  {
   "cell_type": "code",
   "execution_count": null,
   "id": "62ecf49e-fb64-43f6-831c-1323ec98f4d9",
   "metadata": {},
   "outputs": [
    {
     "data": {
      "image/png": "[encoded data removed]",
      "text/plain": [
       "<Figure size 640x480 with 1 Axes>"
      ]
     },
     "metadata": {},
     "output_type": "display_data"
    }
   ],
   "source": [
    "plt.xticks(ticks=np.arange(len(pivot.columns)), labels=pivot.columns, rotation=45)\n",
    "plt.yticks(ticks=np.arange(len(pivot.index)), labels=pivot.index)\n",
    "\n",
    "plt.title('Points by Winning Country and Year', fontsize=14, fontweight='bold')\n",
    "plt.xlabel('Year', fontsize=12)\n",
    "plt.ylabel('Country', fontsize=12)\n",
    "plt.tight_layout()\n",
    "plt.show()"
   ]
  },
  {
   "cell_type": "code",
   "execution_count": null,
   "id": "6582c934-22de-4129-8dcf-94b5c896adc9",
   "metadata": {},
   "outputs": [
    {
     "data": {
      "text/plain": [
       "<Figure size 1000x600 with 0 Axes>"
      ]
     },
     "execution_count": 73,
     "metadata": {},
     "output_type": "execute_result"
    },
    {
     "data": {
      "text/plain": [
       "<Figure size 1000x600 with 0 Axes>"
      ]
     },
     "metadata": {},
     "output_type": "display_data"
    }
   ],
   "source": [
    "plt.figure(figsize=(10, 6))"
   ]
  },
  {
   "cell_type": "code",
   "execution_count": null,
   "id": "9c618f0d-25a4-424f-9091-146ff428b3e0",
   "metadata": {},
   "outputs": [],
   "source": [
    "countries = df['winner_country'].unique()\n",
    "country_to_num = {c: i for i, c in enumerate(countries)}\n",
    "x = df['winner_country'].map(country_to_num)\n",
    "y = df['points']\n",
    "sizes = df['points']\n",
    "colors = df['year']"
   ]
  },
  {
   "cell_type": "code",
   "execution_count": null,
   "id": "0330f706-8b5c-428d-9533-9857f359f41a",
   "metadata": {},
   "outputs": [
    {
     "data": {
      "image/png": "[encoded data removed]",
      "text/plain": [
       "<Figure size 640x480 with 2 Axes>"
      ]
     },
     "metadata": {},
     "output_type": "display_data"
    }
   ],
   "source": [
    "scatter = plt.scatter(x, y, s=sizes, c=colors, cmap='viridis', alpha=0.7, edgecolors='k')\n",
    "\n",
    "plt.colorbar(scatter, label='Year')\n",
    "plt.xticks(ticks=np.arange(len(countries)), labels=countries, rotation=45)\n",
    "\n",
    "plt.title('Scatter Plot of Winners by Points & Year', fontsize=14, fontweight='bold')\n",
    "plt.xlabel('Winning Country', fontsize=12)\n",
    "plt.ylabel('Points', fontsize=12)\n",
    "plt.tight_layout()\n",
    "plt.show()"
   ]
  },
  {
   "cell_type": "code",
   "execution_count": null,
   "id": "321ad857-a6f3-438f-be66-85549b93ff50",
   "metadata": {},
   "outputs": [
    {
     "name": "stdout",
     "output_type": "stream",
     "text": [
      "Collecting ipywidgets\n",
      "  Using cached ipywidgets-8.1.7-py3-none-any.whl.metadata (2.4 kB)\n",
      "Requirement already satisfied: comm>=0.1.3 in c:\\users\\shrer_1k7nvy2\\onedrive\\desktop\\data-analysis-and-visualization-bca-2025-main\\.venv\\lib\\site-packages (from ipywidgets) (0.2.2)\n",
      "Requirement already satisfied: ipython>=6.1.0 in c:\\users\\shrer_1k7nvy2\\onedrive\\desktop\\data-analysis-and-visualization-bca-2025-main\\.venv\\lib\\site-packages (from ipywidgets) (9.2.0)\n",
      "Requirement already satisfied: traitlets>=4.3.1 in c:\\users\\shrer_1k7nvy2\\onedrive\\desktop\\data-analysis-and-visualization-bca-2025-main\\.venv\\lib\\site-packages (from ipywidgets) (5.14.3)\n",
      "Collecting widgetsnbextension~=4.0.14 (from ipywidgets)\n",
      "  Using cached widgetsnbextension-4.0.14-py3-none-any.whl.metadata (1.6 kB)\n",
      "Collecting jupyterlab_widgets~=3.0.15 (from ipywidgets)\n",
      "  Using cached jupyterlab_widgets-3.0.15-py3-none-any.whl.metadata (20 kB)\n",
      "Requirement already satisfied: colorama in c:\\users\\shrer_1k7nvy2\\onedrive\\desktop\\data-analysis-and-visualization-bca-2025-main\\.venv\\lib\\site-packages (from ipython>=6.1.0->ipywidgets) (0.4.6)\n",
      "Requirement already satisfied: decorator in c:\\users\\shrer_1k7nvy2\\onedrive\\desktop\\data-analysis-and-visualization-bca-2025-main\\.venv\\lib\\site-packages (from ipython>=6.1.0->ipywidgets) (5.2.1)\n",
      "Requirement already satisfied: ipython-pygments-lexers in c:\\users\\shrer_1k7nvy2\\onedrive\\desktop\\data-analysis-and-visualization-bca-2025-main\\.venv\\lib\\site-packages (from ipython>=6.1.0->ipywidgets) (1.1.1)\n",
      "Requirement already satisfied: jedi>=0.16 in c:\\users\\shrer_1k7nvy2\\onedrive\\desktop\\data-analysis-and-visualization-bca-2025-main\\.venv\\lib\\site-packages (from ipython>=6.1.0->ipywidgets) (0.19.2)\n",
      "Requirement already satisfied: matplotlib-inline in c:\\users\\shrer_1k7nvy2\\onedrive\\desktop\\data-analysis-and-visualization-bca-2025-main\\.venv\\lib\\site-packages (from ipython>=6.1.0->ipywidgets) (0.1.7)\n",
      "Requirement already satisfied: prompt_toolkit<3.1.0,>=3.0.41 in c:\\users\\shrer_1k7nvy2\\onedrive\\desktop\\data-analysis-and-visualization-bca-2025-main\\.venv\\lib\\site-packages (from ipython>=6.1.0->ipywidgets) (3.0.51)\n",
      "Requirement already satisfied: pygments>=2.4.0 in c:\\users\\shrer_1k7nvy2\\onedrive\\desktop\\data-analysis-and-visualization-bca-2025-main\\.venv\\lib\\site-packages (from ipython>=6.1.0->ipywidgets) (2.19.1)\n",
      "Requirement already satisfied: stack_data in c:\\users\\shrer_1k7nvy2\\onedrive\\desktop\\data-analysis-and-visualization-bca-2025-main\\.venv\\lib\\site-packages (from ipython>=6.1.0->ipywidgets) (0.6.3)\n",
      "Requirement already satisfied: wcwidth in c:\\users\\shrer_1k7nvy2\\onedrive\\desktop\\data-analysis-and-visualization-bca-2025-main\\.venv\\lib\\site-packages (from prompt_toolkit<3.1.0,>=3.0.41->ipython>=6.1.0->ipywidgets) (0.2.13)\n",
      "Requirement already satisfied: parso<0.9.0,>=0.8.4 in c:\\users\\shrer_1k7nvy2\\onedrive\\desktop\\data-analysis-and-visualization-bca-2025-main\\.venv\\lib\\site-packages (from jedi>=0.16->ipython>=6.1.0->ipywidgets) (0.8.4)\n",
      "Requirement already satisfied: executing>=1.2.0 in c:\\users\\shrer_1k7nvy2\\onedrive\\desktop\\data-analysis-and-visualization-bca-2025-main\\.venv\\lib\\site-packages (from stack_data->ipython>=6.1.0->ipywidgets) (2.2.0)\n",
      "Requirement already satisfied: asttokens>=2.1.0 in c:\\users\\shrer_1k7nvy2\\onedrive\\desktop\\data-analysis-and-visualization-bca-2025-main\\.venv\\lib\\site-packages (from stack_data->ipython>=6.1.0->ipywidgets) (3.0.0)\n",
      "Requirement already satisfied: pure-eval in c:\\users\\shrer_1k7nvy2\\onedrive\\desktop\\data-analysis-and-visualization-bca-2025-main\\.venv\\lib\\site-packages (from stack_data->ipython>=6.1.0->ipywidgets) (0.2.3)\n",
      "Using cached ipywidgets-8.1.7-py3-none-any.whl (139 kB)\n",
      "Using cached jupyterlab_widgets-3.0.15-py3-none-any.whl (216 kB)\n",
      "Using cached widgetsnbextension-4.0.14-py3-none-any.whl (2.2 MB)\n",
      "Installing collected packages: widgetsnbextension, jupyterlab_widgets, ipywidgets\n",
      "\n",
      "   ---------------------------------------- 0/3 [widgetsnbextension]\n",
      "   ------------- -------------------------- 1/3 [jupyterlab_widgets]\n",
      "   ------------- -------------------------- 1/3 [jupyterlab_widgets]\n",
      "   ------------- -------------------------- 1/3 [jupyterlab_widgets]\n",
      "   ------------- -------------------------- 1/3 [jupyterlab_widgets]\n",
      "   -------------------------- ------------- 2/3 [ipywidgets]\n",
      "   -------------------------- ------------- 2/3 [ipywidgets]\n",
      "   -------------------------- ------------- 2/3 [ipywidgets]\n",
      "   -------------------------- ------------- 2/3 [ipywidgets]\n",
      "   -------------------------- ------------- 2/3 [ipywidgets]\n",
      "   -------------------------- ------------- 2/3 [ipywidgets]\n",
      "   -------------------------- ------------- 2/3 [ipywidgets]\n",
      "   -------------------------- ------------- 2/3 [ipywidgets]\n",
      "   -------------------------- ------------- 2/3 [ipywidgets]\n",
      "   -------------------------- ------------- 2/3 [ipywidgets]\n",
      "   ---------------------------------------- 3/3 [ipywidgets]\n",
      "\n",
      "Successfully installed ipywidgets-8.1.7 jupyterlab_widgets-3.0.15 widgetsnbextension-4.0.14\n"
     ]
    }
   ],
   "source": [
    "!pip install ipywidgets\n"
   ]
  },
  {
   "cell_type": "code",
   "execution_count": null,
   "id": "01698257-57a3-4df5-adb0-44b522bbe996",
   "metadata": {},
   "outputs": [
    {
     "name": "stdout",
     "output_type": "stream",
     "text": [
      "Selected year: 2002\n"
     ]
    },
    {
     "data": {
      "application/vnd.jupyter.widget-view+json": {
       "model_id": "60c060748b6840b8b0360e85fe059322",
       "version_major": 2,
       "version_minor": 0
      },
      "text/plain": [
       "interactive(children=(Dropdown(description='year', options=(2002, 2003, 2004, 2005, 2006, 2007, 2008, 2009, 20…"
      ]
     },
     "metadata": {},
     "output_type": "display_data"
    },
    {
     "data": {
      "text/plain": [
       "<function __main__.show_year(year)>"
      ]
     },
     "execution_count": 81,
     "metadata": {},
     "output_type": "execute_result"
    }
   ],
   "source": [
    "from ipywidgets import interact\n",
    "\n",
    "def show_year(year):\n",
    "    print(f\"Selected year: {year}\")\n",
    "\n",
    "interact(show_year, year=range(2002, 2024))\n",
    "\n",
    "from ipywidgets import interact\n",
    "\n",
    "def show_year(year):\n",
    "    print(f\"Selected year: {year}\")\n",
    "\n",
    "interact(show_year, year=range(2002, 2024))"
   ]
  }
 ],
 "metadata": {
  "kernelspec": {
   "display_name": "Python 3 (ipykernel)",
   "language": "python",
   "name": "python3"
  },
  "language_info": {
   "codemirror_mode": {
    "name": "ipython",
    "version": 3
   },
   "file_extension": ".py",
   "mimetype": "text/x-python",
   "name": "python",
   "nbconvert_exporter": "python",
   "pygments_lexer": "ipython3",
   "version": "3.13.3"
  }
 },
 "nbformat": 4,
 "nbformat_minor": 5
}

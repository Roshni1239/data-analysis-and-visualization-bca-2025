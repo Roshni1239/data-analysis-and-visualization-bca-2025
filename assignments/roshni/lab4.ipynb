{
 "cells": [
  {
   "cell_type": "code",
   "execution_count": null,
   "id": "33191fba-95c5-4d53-aac1-02f3cab76f2e",
   "metadata": {},
   "outputs": [
    {
     "ename": "",
     "evalue": "",
     "output_type": "error",
     "traceback": [
      "\u001b[1;31mRunning cells with '.venv (Python 3.13.3)' requires the ipykernel package.\n",
      "\u001b[1;31mInstall 'ipykernel' into the Python environment. \n",
      "\u001b[1;31mCommand: 'c:/Users/shrer_1k7nvy2/OneDrive/Desktop/data-analysis-and-visualization-bca-2025/data-analysis-and-visualization-bca-2025/.venv/Scripts/python.exe -m pip install ipykernel -U --force-reinstall'"
     ]
    }
   ],
   "source": [
    "import matplotlib.pyplot as plt\n",
    "import seaborn as sns"
   ]
  },
  {
   "cell_type": "code",
   "execution_count": null,
   "id": "1136c93c-5d17-410f-97b0-1dae08943f20",
   "metadata": {},
   "outputs": [],
   "source": [
    "column = 'Price'\n",
    "plt.figure(figsize=(16, 12))"
   ]
  },
  {
   "cell_type": "code",
   "execution_count": null,
   "id": "cc32d23f-06a2-47f0-b06a-6d3bc9b95328",
   "metadata": {},
   "outputs": [],
   "source": [
    "print(df.columns)"
   ]
  },
  {
   "cell_type": "code",
   "execution_count": null,
   "id": "c7767336-6682-4e7a-aa7a-e746a583642f",
   "metadata": {},
   "outputs": [],
   "source": [
    "column = 'Price'"
   ]
  },
  {
   "cell_type": "code",
   "execution_count": null,
   "id": "118a7258-e77b-43a0-8ab8-32fef68c604c",
   "metadata": {},
   "outputs": [],
   "source": [
    "column = 'cost_usd'"
   ]
  },
  {
   "cell_type": "code",
   "execution_count": null,
   "id": "7b786637-5a42-4abb-b085-c85492282c20",
   "metadata": {},
   "outputs": [],
   "source": [
    "plt.subplot(2, 2, 1)\n",
    "plt.hist(df[column].dropna(), bins=30, color='skyblue')\n",
    "plt.title('Standard Histogram')\n",
    "plt.xlabel(column)\n",
    "plt.ylabel('Frequency')"
   ]
  },
  {
   "cell_type": "code",
   "execution_count": null,
   "id": "74972c41-3e38-47dd-abe4-12c6fe2e9ad8",
   "metadata": {},
   "outputs": [],
   "source": [
    "plt.subplot(2, 2, 2)\n",
    "plt.hist(df[column].dropna(), bins=30, density=True, color='lightgreen')\n",
    "plt.title('Normalized Histogram (Density)')\n",
    "plt.xlabel(column)\n",
    "plt.ylabel('Density')"
   ]
  },
  {
   "cell_type": "code",
   "execution_count": null,
   "id": "ecfa6781-3a97-4e4b-a2d8-bcba53577048",
   "metadata": {},
   "outputs": [],
   "source": [
    "plt.subplot(2, 2, 3)\n",
    "plt.hist(df[column].dropna(), bins=30, cumulative=True, color='salmon')\n",
    "plt.title('Cumulative Histogram')\n",
    "plt.xlabel(column)\n",
    "plt.ylabel('Cumulative Frequency')"
   ]
  },
  {
   "cell_type": "code",
   "execution_count": null,
   "id": "a1021025-04e3-460a-b5dc-a3febf8b4bdb",
   "metadata": {},
   "outputs": [],
   "source": [
    "plt.subplot(2, 2, 4)\n",
    "sns.kdeplot(df[column].dropna(), shade=True, color='purple')\n",
    "plt.title('KDE / Density Plot')\n",
    "plt.xlabel(column)\n",
    "plt.ylabel('Density')\n",
    "plt.tight_layout()\n",
    "plt.show()"
   ]
  },
  {
   "cell_type": "code",
   "execution_count": null,
   "id": "98cdf236-cde4-4548-928e-05576e8e5b20",
   "metadata": {},
   "outputs": [],
   "source": [
    "import pandas as pd\n",
    "import matplotlib.pyplot as plt\n",
    "import seaborn as sns"
   ]
  },
  {
   "cell_type": "code",
   "execution_count": null,
   "id": "536dc28f-1de6-4c79-bf8a-241b07df1af2",
   "metadata": {},
   "outputs": [],
   "source": [
    "print(df.columns)"
   ]
  },
  {
   "cell_type": "code",
   "execution_count": null,
   "id": "194de362-682e-4aa7-9676-12a946130a49",
   "metadata": {},
   "outputs": [],
   "source": [
    "plt.figure(figsize=(10,6))\n",
    "df['food_category'].value_counts().plot(kind='bar', color='skyblue')\n",
    "plt.title('Count of Food Categories')\n",
    "plt.xlabel('Food Category')\n",
    "plt.ylabel('Count')\n",
    "plt.show()"
   ]
  },
  {
   "cell_type": "code",
   "execution_count": null,
   "id": "323682e8-978b-4039-9eef-92f58fa6b052",
   "metadata": {},
   "outputs": [],
   "source": [
    "plt.figure(figsize=(10,6))\n",
    "df['food_category'].value_counts().plot(kind='barh', color='lightgreen')\n",
    "plt.title('Count of Food Categories')\n",
    "plt.xlabel('Count')\n",
    "plt.ylabel('Food Category')\n",
    "plt.show()"
   ]
  },
  {
   "cell_type": "code",
   "execution_count": null,
   "id": "7a59056b-6133-4f41-93e8-69baa124c524",
   "metadata": {},
   "outputs": [],
   "source": [
    "ct = pd.crosstab(df['continent'], df['food_category'])\n",
    "\n",
    "ct.plot(kind='bar', stacked=True, figsize=(12,7), colormap='tab20')\n",
    "plt.title('Stacked Bar Chart: Food Categories by Continent')\n",
    "plt.xlabel('Continent')\n",
    "plt.ylabel('Count')\n",
    "plt.legend(title='Food Category')\n",
    "plt.show()"
   ]
  },
  {
   "cell_type": "code",
   "execution_count": null,
   "id": "9a454b6c-be75-4b02-8ccd-f38c879acb23",
   "metadata": {},
   "outputs": [],
   "source": [
    "ct.plot(kind='bar', stacked=False, figsize=(12,7), colormap='tab20')\n",
    "plt.title('Grouped Bar Chart: Food Categories by Continent')\n",
    "plt.xlabel('Continent')\n",
    "plt.ylabel('Count')\n",
    "plt.legend(title='Food Category')\n",
    "plt.show()"
   ]
  },
  {
   "cell_type": "code",
   "execution_count": null,
   "id": "5640dc1d-0da2-4ca6-9cda-245bf9ab79e0",
   "metadata": {},
   "outputs": [],
   "source": [
    "counts = df['food_category'].value_counts().sort_values()\n",
    "\n",
    "plt.figure(figsize=(10,6))\n",
    "plt.hlines(y=counts.index, xmin=0, xmax=counts.values, color='skyblue')\n",
    "plt.plot(counts.values, counts.index, \"o\", color='steelblue')\n",
    "plt.title('Lollipop Chart of Food Categories Count')\n",
    "plt.xlabel('Count')\n",
    "plt.ylabel('Food Category')\n",
    "plt.show()"
   ]
  },
  {
   "cell_type": "code",
   "execution_count": null,
   "id": "233cf8ec-cac7-4de3-8916-06c3da053752",
   "metadata": {},
   "outputs": [],
   "source": [
    "import pandas as pd\n",
    "import matplotlib.pyplot as plt"
   ]
  },
  {
   "cell_type": "code",
   "execution_count": null,
   "id": "3495c51a-8a9c-499d-a067-ec8c2c5ef698",
   "metadata": {},
   "outputs": [],
   "source": [
    "counts = df['Country'].value_counts()"
   ]
  },
  {
   "cell_type": "code",
   "execution_count": null,
   "id": "f83034c2-c592-4e0d-9686-598d2c856b1f",
   "metadata": {},
   "outputs": [],
   "source": [
    "plt.figure(figsize=(8,8))\n",
    "plt.pie(counts, labels=counts.index, autopct='%1.1f%%', startangle=140)\n",
    "plt.title('Distribution of Street Foods by Country')\n",
    "plt.show()"
   ]
  },
  {
   "cell_type": "code",
   "execution_count": null,
   "id": "61d04522-19a3-4af2-94e4-8ba78f5850e7",
   "metadata": {},
   "outputs": [],
   "source": [
    "plt.figure(figsize=(8,8))\n",
    "wedges, texts, autotexts = plt.pie(counts, labels=counts.index, autopct='%1.1f%%', startangle=140)\n",
    "\n",
    "centre_circle = plt.Circle((0,0),0.70,fc='white')\n",
    "fig = plt.gcf()\n",
    "fig.gca().add_artist(centre_circle)\n",
    "\n",
    "plt.title('Donut Chart of Street Foods by Country')\n",
    "plt.show()"
   ]
  },
  {
   "cell_type": "code",
   "execution_count": null,
   "id": "726e92b6-14b2-4ea5-9c80-acf2a6c3d64d",
   "metadata": {},
   "outputs": [],
   "source": [
    "explode = [0.1 if i < 5 else 0 for i in range(len(counts))]\n",
    "\n",
    "plt.figure(figsize=(8,8))\n",
    "plt.pie(counts, labels=counts.index, autopct='%1.1f%%', explode=explode, startangle=90)\n",
    "plt.title('Exploded Pie Chart (Top 5 Highlighted)')\n",
    "plt.show()"
   ]
  },
  {
   "cell_type": "code",
   "execution_count": null,
   "id": "1b4dff07-1b77-4663-9909-2f50ae4b8129",
   "metadata": {},
   "outputs": [],
   "source": [
    "!pip install plotly\n",
    "\n"
   ]
  },
  {
   "cell_type": "code",
   "execution_count": null,
   "id": "f8ace482-f3e8-426b-9e50-0591fddc33ce",
   "metadata": {},
   "outputs": [],
   "source": [
    "import plotly.express as px\n",
    "fig = px.sunburst(df, path=['Country', 'Food_Type'], title='Nested Pie Chart: Country → Food Type')\n",
    "fig.show()"
   ]
  },
  {
   "cell_type": "code",
   "execution_count": null,
   "id": "ff9b5bf9-6576-4bf9-84fe-1f1803f45d70",
   "metadata": {},
   "outputs": [],
   "source": [
    "import pandas as pd\n",
    "import matplotlib.pyplot as plt\n",
    "import seaborn as sns\n",
    "\n",
    "df = pd.read_csv('global_street_food.csv') \n",
    "df.head()"
   ]
  },
  {
   "cell_type": "code",
   "execution_count": null,
   "id": "66f32c93-594c-476a-ba5b-d003c36eb274",
   "metadata": {},
   "outputs": [],
   "source": [
    "column = 'Price' \n",
    "desc = df[column].describe()\n",
    "print(f\"Min: {desc['min']}\")\n",
    "print(f\"Q1: {df[column].quantile(0.25)}\")\n",
    "print(f\"Median (Q2): {desc['50%']}\")\n",
    "print(f\"Q3: {df[column].quantile(0.75)}\")\n",
    "print(f\"Max: {desc['max']}\")"
   ]
  },
  {
   "cell_type": "code",
   "execution_count": null,
   "id": "ee60da01-7249-4231-b001-c7b0dbd36694",
   "metadata": {},
   "outputs": [],
   "source": [
    "plt.figure(figsize=(6, 4))\n",
    "sns.boxplot(data=df, y='Price') \n",
    "plt.title('Standard Box Plot of Street Food Prices')\n",
    "plt.show()"
   ]
  },
  {
   "cell_type": "code",
   "execution_count": null,
   "id": "3fbe6fb2-bed4-46a4-9e07-6c6710da8559",
   "metadata": {},
   "outputs": [],
   "source": [
    "plt.figure(figsize=(6, 4))\n",
    "sns.boxplot(data=df, y='Price', notch=True)\n",
    "plt.title('Notched Box Plot of Prices (95% CI)')\n",
    "plt.show()"
   ]
  },
  {
   "cell_type": "code",
   "execution_count": null,
   "id": "182665fc-188c-449a-ba0d-143fe37d623a",
   "metadata": {},
   "outputs": [],
   "source": [
    "plt.figure(figsize=(6, 4))\n",
    "sns.violinplot(data=df, y='Price', inner='quartile', palette='Pastel1')\n",
    "plt.title('Violin Plot of Prices')\n",
    "plt.show()"
   ]
  },
  {
   "cell_type": "code",
   "execution_count": null,
   "id": "856b7422-61a2-4385-a668-620b103a57d1",
   "metadata": {},
   "outputs": [],
   "source": [
    "plt.figure(figsize=(12, 6))\n",
    "sns.boxplot(data=df, x='Country', y='Price')  # or 'Food_Type' for x\n",
    "plt.title('Side-by-Side Box Plot of Price by Country')\n",
    "plt.xticks(rotation=45)\n",
    "plt.show()"
   ]
  },
  {
   "cell_type": "code",
   "execution_count": null,
   "id": "41b386e1-c2ff-4f51-b557-fe69ae6d80d7",
   "metadata": {},
   "outputs": [],
   "source": [
    "df.columns = df.columns.str.strip()"
   ]
  }
 ],
 "metadata": {
  "kernelspec": {
   "display_name": ".venv",
   "language": "python",
   "name": "python3"
  },
  "language_info": {
   "codemirror_mode": {
    "name": "ipython",
    "version": 3
   },
   "file_extension": ".py",
   "mimetype": "text/x-python",
   "name": "python",
   "nbconvert_exporter": "python",
   "pygments_lexer": "ipython3",
   "version": "3.13.3"
  }
 },
 "nbformat": 4,
 "nbformat_minor": 5
}
